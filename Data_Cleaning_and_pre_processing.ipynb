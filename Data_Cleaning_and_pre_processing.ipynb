{
  "nbformat": 4,
  "nbformat_minor": 0,
  "metadata": {
    "colab": {
      "provenance": [],
      "authorship_tag": "ABX9TyM/E5Got4cu7Uj1n57wYb/R",
      "include_colab_link": true
    },
    "kernelspec": {
      "name": "python3",
      "display_name": "Python 3"
    },
    "language_info": {
      "name": "python"
    }
  },
  "cells": [
    {
      "cell_type": "markdown",
      "metadata": {
        "id": "view-in-github",
        "colab_type": "text"
      },
      "source": [
        "<a href=\"https://colab.research.google.com/github/pyaidatascience/ML-ADYPU/blob/main/Data_Cleaning_and_pre_processing.ipynb\" target=\"_parent\"><img src=\"https://colab.research.google.com/assets/colab-badge.svg\" alt=\"Open In Colab\"/></a>"
      ]
    },
    {
      "cell_type": "code",
      "execution_count": null,
      "metadata": {
        "id": "k4PC8hKyecI4"
      },
      "outputs": [],
      "source": []
    },
    {
      "cell_type": "markdown",
      "source": [
        "Let's create some simple, real-life examples in Python to illustrate the concepts of data cleaning and pre-processing from Unit One."
      ],
      "metadata": {
        "id": "KHWTkDevef8T"
      }
    },
    {
      "cell_type": "markdown",
      "source": [
        "## Handling Missing Data"
      ],
      "metadata": {
        "id": "0iSV-XgPek_g"
      }
    },
    {
      "cell_type": "markdown",
      "source": [
        "Let's take an example of a dataset containing information about people's ages and their favorite fruits:"
      ],
      "metadata": {
        "id": "8_Aou-0gerbo"
      }
    },
    {
      "cell_type": "code",
      "source": [
        "import pandas as pd"
      ],
      "metadata": {
        "id": "W8kqGi1uwuve"
      },
      "execution_count": null,
      "outputs": []
    },
    {
      "cell_type": "code",
      "source": [
        "\n",
        "\n",
        "# Sample dataset\n",
        "data = {'Name': ['Alice', 'Bob', 'Charlie', 'David', 'Edward'],\n",
        "        'Age': [25, None, 30, 22, None],\n",
        "        'Favorite Fruit': ['Apple', 'Banana', 'None', 'Apple', 'Banana']}\n",
        "wifi\n",
        "df = pd.DataFrame(data)\n",
        "\n",
        "# Handling missing data by filling with mean value\n",
        "df['Age'].fillna(df['Age'].mean(), inplace=True)\n",
        "print(df)\n"
      ],
      "metadata": {
        "id": "M9Gb23Wsetrn"
      },
      "execution_count": null,
      "outputs": []
    },
    {
      "cell_type": "markdown",
      "source": [
        "Removing Duplicates"
      ],
      "metadata": {
        "id": "yGn6q-BIewh4"
      }
    },
    {
      "cell_type": "markdown",
      "source": [
        "Now let's consider a dataset where we might have duplicate entries:"
      ],
      "metadata": {
        "id": "lprik6OUexGf"
      }
    },
    {
      "cell_type": "code",
      "source": [
        "data = {'Name': ['Alice', 'Bob', 'Alice', 'David', 'Edward'],\n",
        "        'Age': [25, 22, 25, 22, 24],\n",
        "        'Favorite Fruit': ['Apple', 'Banana', 'Apple', 'Apple', 'Banana']}\n",
        "\n",
        "df = pd.DataFrame(data)\n",
        "\n",
        "# Removing duplicate entries\n",
        "df.drop_duplicates(inplace=True)\n",
        "print(df)\n"
      ],
      "metadata": {
        "id": "0EQMYdAKe0Sw"
      },
      "execution_count": null,
      "outputs": []
    },
    {
      "cell_type": "markdown",
      "source": [
        "Transforming Data Using a Function or Mapping"
      ],
      "metadata": {
        "id": "LL-qijM0e2sg"
      }
    },
    {
      "cell_type": "markdown",
      "source": [
        "Let's convert ages from years to months:"
      ],
      "metadata": {
        "id": "Y8A5Jdine40p"
      }
    },
    {
      "cell_type": "code",
      "source": [
        "data = {'Name': ['Alice', 'Bob', 'Charlie', 'David', 'Edward'],\n",
        "        'Age': [25, 22, 30, 22, 24]}\n",
        "\n",
        "df = pd.DataFrame(data)\n",
        "\n",
        "# Transforming age from years to months\n",
        "df['Age in Months'] = df['Age'].apply(lambda x: x * 12)\n",
        "print(df)\n"
      ],
      "metadata": {
        "id": "NYcw_6Ove8e_"
      },
      "execution_count": null,
      "outputs": []
    },
    {
      "cell_type": "markdown",
      "source": [
        "Replacing Values"
      ],
      "metadata": {
        "id": "KxcKuzFxe-2A"
      }
    },
    {
      "cell_type": "markdown",
      "source": [
        "Replace 'None' with a more Replace 'None' with a more meaningful value:meaningful value:"
      ],
      "metadata": {
        "id": "sI28C3OXfCV6"
      }
    },
    {
      "cell_type": "code",
      "source": [
        "data = {'Name': ['Alice', 'Bob', 'Charlie', 'David', 'Edward'],\n",
        "        'Favorite Fruit': ['Apple', 'Banana', 'None', 'Apple', 'Banana']}\n",
        "\n",
        "df = pd.DataFrame(data)\n",
        "\n",
        "# Replacing 'None' with 'Unknown'\n",
        "df['Favorite Fruit'].replace('None', 'Unknown', inplace=True)\n",
        "print(df)\n"
      ],
      "metadata": {
        "id": "QndutKppfHfH"
      },
      "execution_count": null,
      "outputs": []
    },
    {
      "cell_type": "markdown",
      "source": [
        "Detecting and Filtering Outliers"
      ],
      "metadata": {
        "id": "xHMWJ43vfKQw"
      }
    },
    {
      "cell_type": "markdown",
      "source": [
        "Let's detect ages that are beyond a typical range and filter them out:"
      ],
      "metadata": {
        "id": "huEQriWjfMaI"
      }
    },
    {
      "cell_type": "code",
      "source": [
        "import numpy as np\n",
        "\n",
        "data = {'Name': ['Alice', 'Bob', 'Charlie', 'David', 'Edward'],\n",
        "        'Age': [25, 22, 30, 22, 300]}\n",
        "\n",
        "df = pd.DataFrame(data)\n",
        "\n",
        "# Detecting outliers using Z-score\n",
        "df['Z-score'] = (df['Age'] - df['Age'].mean()) / df['Age'].std()\n",
        "outliers = df[np.abs(df['Z-score']) > 2]\n",
        "print(\"Outliers:\\n\", outliers)\n",
        "\n",
        "# Filtering outliers\n",
        "df_no_outliers = df[np.abs(df['Z-score']) <= 2]\n",
        "print(\"Filtered Data:\\n\", df_no_outliers)\n"
      ],
      "metadata": {
        "id": "QGTr3PO1fN-w"
      },
      "execution_count": null,
      "outputs": []
    },
    {
      "cell_type": "markdown",
      "source": [
        "String Manipulation"
      ],
      "metadata": {
        "id": "R1S9ol6vfQi_"
      }
    },
    {
      "cell_type": "markdown",
      "source": [
        "Perform operations on strings like splitting, replacing, and extracting text:"
      ],
      "metadata": {
        "id": "DTgn7xURfZBq"
      }
    },
    {
      "cell_type": "code",
      "source": [
        "data = {'Name': ['Alice Smith', 'Bob Brown', 'Charlie Lee', 'David Clark', 'Edward King']}\n",
        "\n",
        "df = pd.DataFrame(data)\n",
        "\n",
        "# Splitting Name into First Name and Last Name\n",
        "df[['First Name', 'Last Name']] = df['Name'].str.split(expand=True)\n",
        "print(df)\n"
      ],
      "metadata": {
        "id": "ZVKS-WiDfa4v"
      },
      "execution_count": null,
      "outputs": []
    }
  ]
}