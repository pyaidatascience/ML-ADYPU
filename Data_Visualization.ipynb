{
  "nbformat": 4,
  "nbformat_minor": 0,
  "metadata": {
    "colab": {
      "provenance": [],
      "authorship_tag": "ABX9TyPurv6cegB9dxq5zkKYgX2d",
      "include_colab_link": true
    },
    "kernelspec": {
      "name": "python3",
      "display_name": "Python 3"
    },
    "language_info": {
      "name": "python"
    }
  },
  "cells": [
    {
      "cell_type": "markdown",
      "metadata": {
        "id": "view-in-github",
        "colab_type": "text"
      },
      "source": [
        "<a href=\"https://colab.research.google.com/github/pyaidatascience/ML-ADYPU/blob/main/Data_Visualization.ipynb\" target=\"_parent\"><img src=\"https://colab.research.google.com/assets/colab-badge.svg\" alt=\"Open In Colab\"/></a>"
      ]
    },
    {
      "cell_type": "markdown",
      "source": [
        "Data Visualization Introduction\n",
        "Data visualization involves representing data graphically to uncover patterns, trends, and insights. Here's how you can create different types of visualizations using pandas and Matplotlib."
      ],
      "metadata": {
        "id": "HbE0Ir96i0WJ"
      }
    },
    {
      "cell_type": "markdown",
      "source": [
        "Plotting with pandas"
      ],
      "metadata": {
        "id": "SE-0cFkJi4po"
      }
    },
    {
      "cell_type": "code",
      "execution_count": null,
      "metadata": {
        "id": "Wi9HdiQsixRD"
      },
      "outputs": [],
      "source": [
        "import pandas as pd\n",
        "import matplotlib.pyplot as plt\n",
        "\n",
        "# Sample DataFrame\n",
        "df = pd.DataFrame({\n",
        "    'Year': [2015, 2016, 2017, 2018, 2019],\n",
        "    'Sales': [250, 300, 350, 400, 450]\n",
        "})\n",
        "\n",
        "# Line plot\n",
        "df.plot(x='Year', y='Sales', kind='line')\n",
        "plt.title('Sales over Years')\n",
        "plt.xlabel('Year')\n",
        "plt.ylabel('Sales')\n",
        "plt.show()\n"
      ]
    },
    {
      "cell_type": "markdown",
      "source": [
        "Explanation: This code creates a line plot of sales over the years using pandas' plot() method."
      ],
      "metadata": {
        "id": "8SaywQZki9AF"
      }
    },
    {
      "cell_type": "markdown",
      "source": [
        "Bar Plots:"
      ],
      "metadata": {
        "id": "MiZXQD9Li-mA"
      }
    },
    {
      "cell_type": "code",
      "source": [
        "# Bar plot\n",
        "df.plot(x='Year', y='Sales', kind='bar')\n",
        "plt.title('Sales over Years')\n",
        "plt.xlabel('Year')\n",
        "plt.ylabel('Sales')\n",
        "plt.show()\n"
      ],
      "metadata": {
        "id": "i1TRn6ZXi_-4"
      },
      "execution_count": null,
      "outputs": []
    },
    {
      "cell_type": "markdown",
      "source": [
        "Explanation: This code creates a bar plot of sales over the years using pandas' plot() method."
      ],
      "metadata": {
        "id": "g8AmLXmdjCWB"
      }
    },
    {
      "cell_type": "code",
      "source": [
        "Histograms and Density Plots:"
      ],
      "metadata": {
        "id": "dS0ae7ZyjEm4"
      },
      "execution_count": null,
      "outputs": []
    },
    {
      "cell_type": "markdown",
      "source": [
        "Histograms and Density Plots:"
      ],
      "metadata": {
        "id": "Xlt3nJ5rjFuf"
      }
    },
    {
      "cell_type": "code",
      "source": [
        "# Histogram\n",
        "df['Sales'].plot(kind='hist', bins=5)\n",
        "plt.title('Sales Distribution')\n",
        "plt.xlabel('Sales')\n",
        "plt.ylabel('Frequency')\n",
        "plt.show()\n",
        "\n",
        "# Density plot\n",
        "df['Sales'].plot(kind='density')\n",
        "plt.title('Sales Density Plot')\n",
        "plt.xlabel('Sales')\n",
        "plt.show()\n"
      ],
      "metadata": {
        "id": "wLjsJ9bejHZo"
      },
      "execution_count": null,
      "outputs": []
    },
    {
      "cell_type": "markdown",
      "source": [
        "Explanation: This code creates a histogram and a density plot of the sales data to show the distribution."
      ],
      "metadata": {
        "id": "VxItypJvjLNB"
      }
    },
    {
      "cell_type": "markdown",
      "source": [
        "Scatter or Point Plots:"
      ],
      "metadata": {
        "id": "TK7dkNbgjM7A"
      }
    },
    {
      "cell_type": "code",
      "source": [
        "# Scatter plot\n",
        "df.plot(x='Year', y='Sales', kind='scatter')\n",
        "plt.title('Sales over Years')\n",
        "plt.xlabel('Year')\n",
        "plt.ylabel('Sales')\n",
        "plt.show()\n"
      ],
      "metadata": {
        "id": "kC31WdUKjOYI"
      },
      "execution_count": null,
      "outputs": []
    },
    {
      "cell_type": "markdown",
      "source": [
        "Explanation: This code creates a scatter plot of sales over the years using pandas' plot() method."
      ],
      "metadata": {
        "id": "T5hk3MXCjQvq"
      }
    },
    {
      "cell_type": "markdown",
      "source": [
        "Customization with Matplotlib\n",
        "Customized Plots:"
      ],
      "metadata": {
        "id": "k8hdm2v8jTLj"
      }
    },
    {
      "cell_type": "code",
      "source": [
        "# Customized line plot with Matplotlib\n",
        "plt.plot(df['Year'], df['Sales'], marker='o', linestyle='--', color='r')\n",
        "plt.title('Sales over Years')\n",
        "plt.xlabel('Year')\n",
        "plt.ylabel('Sales')\n",
        "plt.grid(True)\n",
        "plt.show()\n"
      ],
      "metadata": {
        "id": "fhv18sZXjVSi"
      },
      "execution_count": null,
      "outputs": []
    },
    {
      "cell_type": "markdown",
      "source": [
        "Explanation: This code creates a customized line plot with markers, dashed lines, and a red color using Matplotlib."
      ],
      "metadata": {
        "id": "7eq_fV_RjXMZ"
      }
    },
    {
      "cell_type": "markdown",
      "source": [
        "Static, Animated, and Interactive Visualization\n",
        "Static Visualization: The previous examples are static visualizations using Matplotlib.\n",
        "\n",
        "Animated Visualization:"
      ],
      "metadata": {
        "id": "54Bt2j6wjaAp"
      }
    },
    {
      "cell_type": "code",
      "source": [
        "import matplotlib.animation as animation\n",
        "\n",
        "fig, ax = plt.subplots()\n",
        "line, = ax.plot(df['Year'], df['Sales'])\n",
        "\n",
        "def animate(i):\n",
        "    line.set_ydata(df['Sales'] * (i+1) / 10)\n",
        "    return line,\n",
        "\n",
        "ani = animation.FuncAnimation(fig, animate, frames=10, interval=500)\n",
        "plt.show()\n"
      ],
      "metadata": {
        "id": "j-t6DFl3jb6A"
      },
      "execution_count": null,
      "outputs": []
    },
    {
      "cell_type": "markdown",
      "source": [
        "Explanation: This code creates a simple animated line plot where sales values are dynamically updated."
      ],
      "metadata": {
        "id": "2VD9o_Vzje4I"
      }
    },
    {
      "cell_type": "markdown",
      "source": [
        "Interactive Visualization: Interactive visualizations can be created using libraries like Plotly."
      ],
      "metadata": {
        "id": "FaCn_lfWjg5Q"
      }
    },
    {
      "cell_type": "code",
      "source": [
        "import plotly.express as px\n",
        "\n",
        "# Interactive scatter plot\n",
        "fig = px.scatter(df, x='Year', y='Sales', title='Sales over Years')\n",
        "fig.show()\n"
      ],
      "metadata": {
        "id": "m_U8-yUDjeTo"
      },
      "execution_count": null,
      "outputs": []
    },
    {
      "cell_type": "markdown",
      "source": [
        "Explanation: This code creates an interactive scatter plot using Plotly, where users can hover over points to see details."
      ],
      "metadata": {
        "id": "cmRX1ZPzjm5w"
      }
    }
  ]
}