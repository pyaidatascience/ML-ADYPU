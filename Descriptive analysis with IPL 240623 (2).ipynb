{
 "cells": [
  {
   "cell_type": "code",
   "execution_count": null,
   "id": "dc759afd",
   "metadata": {},
   "outputs": [],
   "source": [
    "import pandas as pd"
   ]
  },
  {
   "cell_type": "code",
   "execution_count": null,
   "id": "342dfe61",
   "metadata": {},
   "outputs": [],
   "source": [
    "pd.read_csv?"
   ]
  },
  {
   "cell_type": "code",
   "execution_count": null,
   "id": "7cc08e3b",
   "metadata": {},
   "outputs": [],
   "source": [
    "ipl_auction_df = pd.read_csv('E:\\PYTHON START\\Data Science\\Datasets\\IPL IMB3812013.csv')"
   ]
  },
  {
   "cell_type": "code",
   "execution_count": null,
   "id": "bbc7df53",
   "metadata": {},
   "outputs": [],
   "source": [
    "type(ipl_auction_df)"
   ]
  },
  {
   "cell_type": "markdown",
   "id": "d686a015",
   "metadata": {},
   "source": [
    "### Displying few records of data type"
   ]
  },
  {
   "cell_type": "code",
   "execution_count": null,
   "id": "99fd3c4c",
   "metadata": {},
   "outputs": [],
   "source": [
    "pd.set_option"
   ]
  },
  {
   "cell_type": "code",
   "execution_count": null,
   "id": "65396eca",
   "metadata": {},
   "outputs": [],
   "source": [
    "pd.set_option('display.max_columns',7)"
   ]
  },
  {
   "cell_type": "code",
   "execution_count": null,
   "id": "556c64e9",
   "metadata": {},
   "outputs": [],
   "source": [
    "ipl_auction_df.head(5)"
   ]
  },
  {
   "cell_type": "markdown",
   "id": "eb588c9d",
   "metadata": {},
   "source": [
    "### To Display all the columns name of the data frame"
   ]
  },
  {
   "cell_type": "code",
   "execution_count": null,
   "id": "443f0592",
   "metadata": {},
   "outputs": [],
   "source": [
    "list(ipl_auction_df.columns)"
   ]
  },
  {
   "cell_type": "code",
   "execution_count": null,
   "id": "d90d6d82",
   "metadata": {},
   "outputs": [],
   "source": [
    "pd.set_option('display.max_columns',10)"
   ]
  },
  {
   "cell_type": "code",
   "execution_count": null,
   "id": "e9bf3ceb",
   "metadata": {},
   "outputs": [],
   "source": [
    "ipl_auction_df.head(15)"
   ]
  },
  {
   "cell_type": "markdown",
   "id": "70189f62",
   "metadata": {},
   "source": [
    "### Transpose data frame display as origingal DataFrame has larg no of columns"
   ]
  },
  {
   "cell_type": "code",
   "execution_count": null,
   "id": "2c9eadb0",
   "metadata": {},
   "outputs": [],
   "source": [
    "ipl_auction_df.head(5).transpose()"
   ]
  },
  {
   "cell_type": "code",
   "execution_count": null,
   "id": "5a30e66d",
   "metadata": {},
   "outputs": [],
   "source": [
    "ipl_auction_df.shape"
   ]
  },
  {
   "cell_type": "code",
   "execution_count": null,
   "id": "bcb9a5aa",
   "metadata": {},
   "outputs": [],
   "source": [
    "ipl_auction_df.info()"
   ]
  },
  {
   "cell_type": "code",
   "execution_count": null,
   "id": "6996af70",
   "metadata": {},
   "outputs": [],
   "source": [
    "ipl_auction_df[0:5]"
   ]
  },
  {
   "cell_type": "code",
   "execution_count": null,
   "id": "7999726d",
   "metadata": {},
   "outputs": [],
   "source": [
    "ipl_auction_df[-5:]"
   ]
  },
  {
   "cell_type": "markdown",
   "id": "bc1fab9c",
   "metadata": {},
   "source": [
    "Specific columns of a DataFrame can also be selected or sliced by columns names.\n",
    "\n",
    "Example: Seletc only the PLAYER NAME of first five records"
   ]
  },
  {
   "cell_type": "code",
   "execution_count": null,
   "id": "7cd3821e",
   "metadata": {},
   "outputs": [],
   "source": [
    "ipl_auction_df['PLAYER NAME'][0:5]"
   ]
  },
  {
   "cell_type": "markdown",
   "id": "2af9175a",
   "metadata": {},
   "source": [
    "### Select Two columns\n",
    "\n",
    "Player name and country name of the first five records, pass the list of column names to the DataFrame"
   ]
  },
  {
   "cell_type": "code",
   "execution_count": null,
   "id": "0f958a99",
   "metadata": {},
   "outputs": [],
   "source": [
    "ipl_auction_df[['PLAYER NAME','COUNTRY']][0:5]"
   ]
  },
  {
   "cell_type": "code",
   "execution_count": null,
   "id": "aa2c3fb4",
   "metadata": {},
   "outputs": [],
   "source": [
    "ipl_auction_df.iloc[4:9,1:4]"
   ]
  },
  {
   "cell_type": "code",
   "execution_count": null,
   "id": "c36de6b1",
   "metadata": {},
   "outputs": [],
   "source": [
    "ipl_auction_df.iloc[14:20,5:12]"
   ]
  },
  {
   "cell_type": "code",
   "execution_count": null,
   "id": "31d964a1",
   "metadata": {},
   "outputs": [],
   "source": [
    "ipl_auction_df.COUNTRY.value_counts()"
   ]
  },
  {
   "cell_type": "code",
   "execution_count": null,
   "id": "dd1630e2",
   "metadata": {},
   "outputs": [],
   "source": [
    "ipl_auction_df.COUNTRY.value_counts(normalize=True)*100"
   ]
  },
  {
   "cell_type": "code",
   "execution_count": null,
   "id": "e8c853bd",
   "metadata": {},
   "outputs": [],
   "source": [
    "# Cross Tabulation\n",
    "pd.crosstab(ipl_auction_df['AGE'],ipl_auction_df['PLAYING ROLE'])"
   ]
  },
  {
   "cell_type": "markdown",
   "id": "06784ca8",
   "metadata": {},
   "source": [
    "## Sorting DataFrame By Column Values"
   ]
  },
  {
   "cell_type": "code",
   "execution_count": null,
   "id": "e8d33060",
   "metadata": {},
   "outputs": [],
   "source": [
    "ipl_auction_df[['PLAYER NAME','SOLD PRICE']].sort_values('SOLD PRICE')[0:5]"
   ]
  },
  {
   "cell_type": "markdown",
   "id": "3def0e57",
   "metadata": {},
   "source": [
    "To sort the DtaFrame records in descending order, pass False to ascending parameter"
   ]
  },
  {
   "cell_type": "code",
   "execution_count": null,
   "id": "ff4fcb12",
   "metadata": {},
   "outputs": [],
   "source": [
    "ipl_auction_df[['PLAYER NAME','SOLD PRICE']].sort_values('SOLD PRICE',ascending = False)[0:5]"
   ]
  },
  {
   "cell_type": "markdown",
   "id": "94a8c56a",
   "metadata": {},
   "source": [
    "## Creating New Columns"
   ]
  },
  {
   "cell_type": "code",
   "execution_count": null,
   "id": "84f615dd",
   "metadata": {},
   "outputs": [],
   "source": [
    "ipl_auction_df['premium']= ipl_auction_df['SOLD PRICE'] - ipl_auction_df['BASE PRICE']"
   ]
  },
  {
   "cell_type": "code",
   "execution_count": null,
   "id": "5c53f808",
   "metadata": {},
   "outputs": [],
   "source": [
    "#To visualise changed of updated data\n",
    "ipl_auction_df[['PLAYER NAME','BASE PRICE', 'SOLD PRICE','premium']][0:5]"
   ]
  },
  {
   "cell_type": "code",
   "execution_count": null,
   "id": "21433dcd",
   "metadata": {},
   "outputs": [],
   "source": [
    "ipl_auction_df[['PLAYER NAME','BASE PRICE','SOLD PRICE','premium']].sort_values('premium',ascending = False)[0:5]"
   ]
  },
  {
   "cell_type": "markdown",
   "id": "49c4070e",
   "metadata": {},
   "source": [
    "## Groupting and Aggregating"
   ]
  },
  {
   "cell_type": "code",
   "execution_count": null,
   "id": "10871a91",
   "metadata": {},
   "outputs": [],
   "source": [
    "ipl_auction_df.groupby('AGE')['SOLD PRICE'].mean()"
   ]
  },
  {
   "cell_type": "code",
   "execution_count": null,
   "id": "ead9c33f",
   "metadata": {},
   "outputs": [],
   "source": [
    "soldprice_by_age = ipl_auction_df.groupby('AGE')['SOLD PRICE'].mean().reset_index()\n",
    "print(soldprice_by_age)"
   ]
  },
  {
   "cell_type": "code",
   "execution_count": null,
   "id": "ccd9583a",
   "metadata": {},
   "outputs": [],
   "source": []
  }
 ],
 "metadata": {
  "kernelspec": {
   "display_name": "Python 3 (ipykernel)",
   "language": "python",
   "name": "python3"
  },
  "language_info": {
   "codemirror_mode": {
    "name": "ipython",
    "version": 3
   },
   "file_extension": ".py",
   "mimetype": "text/x-python",
   "name": "python",
   "nbconvert_exporter": "python",
   "pygments_lexer": "ipython3",
   "version": "3.9.12"
  }
 },
 "nbformat": 4,
 "nbformat_minor": 5
}
