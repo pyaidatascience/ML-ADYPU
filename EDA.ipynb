{
  "nbformat": 4,
  "nbformat_minor": 0,
  "metadata": {
    "colab": {
      "provenance": [],
      "authorship_tag": "ABX9TyMhWDx8CYRJ2juHEGNUQaBn",
      "include_colab_link": true
    },
    "kernelspec": {
      "name": "python3",
      "display_name": "Python 3"
    },
    "language_info": {
      "name": "python"
    }
  },
  "cells": [
    {
      "cell_type": "markdown",
      "metadata": {
        "id": "view-in-github",
        "colab_type": "text"
      },
      "source": [
        "<a href=\"https://colab.research.google.com/github/pyaidatascience/ML-ADYPU/blob/main/EDA.ipynb\" target=\"_parent\"><img src=\"https://colab.research.google.com/assets/colab-badge.svg\" alt=\"Open In Colab\"/></a>"
      ]
    },
    {
      "cell_type": "code",
      "execution_count": null,
      "metadata": {
        "id": "cmUfh3WvmXpp"
      },
      "outputs": [],
      "source": []
    },
    {
      "cell_type": "markdown",
      "source": [
        "Exploratory Data Analysis (EDA) process with step-by-step Python code examples and explanations for each part."
      ],
      "metadata": {
        "id": "1W6AfFw7mYi8"
      }
    },
    {
      "cell_type": "markdown",
      "source": [
        "1. Measuring Central Tendency\n",
        "Calculating Mean, Median, and Mode:"
      ],
      "metadata": {
        "id": "F18k5wUcmcsZ"
      }
    },
    {
      "cell_type": "code",
      "source": [
        "import pandas as pd\n",
        "import numpy as np\n",
        "from scipy import stats\n",
        "\n",
        "# Sample DataFrame\n",
        "df = pd.DataFrame({\n",
        "    'Value': [1, 2, 2, 3, 4, 6, 6, 8, 9, 10]\n",
        "})\n",
        "\n",
        "# Mean\n",
        "mean = df['Value'].mean()\n",
        "print(\"Mean:\", mean)\n",
        "\n",
        "# Median\n",
        "median = df['Value'].median()\n",
        "print(\"Median:\", median)\n",
        "\n",
        "# Mode\n",
        "mode = stats.mode(df['Value'])[0]\n",
        "print(\"Mode:\", mode)\n"
      ],
      "metadata": {
        "id": "dhCTUzzWmeOQ"
      },
      "execution_count": null,
      "outputs": []
    },
    {
      "cell_type": "markdown",
      "source": [
        "Explanation: This code calculates the mean, median, and mode for a given dataset. The mean() method calculates the average, median() calculates the middle value, and mode() from scipy calculates the most frequent value."
      ],
      "metadata": {
        "id": "QNl2gR-zmhN4"
      }
    },
    {
      "cell_type": "markdown",
      "source": [
        "2. Measuring Variance and Range\n",
        "Calculating Variance and Range:"
      ],
      "metadata": {
        "id": "lg5Q2kyCmjNB"
      }
    },
    {
      "cell_type": "code",
      "source": [
        "# Variance\n",
        "variance = df['Value'].var()\n",
        "print(\"Variance:\", variance)\n",
        "\n",
        "# Range\n",
        "value_range = df['Value'].max() - df['Value'].min()\n",
        "print(\"Range:\", value_range)\n"
      ],
      "metadata": {
        "id": "xbMQd3yxml2q"
      },
      "execution_count": null,
      "outputs": []
    },
    {
      "cell_type": "markdown",
      "source": [
        "Explanation: This code calculates the variance (how much the data varies from the mean) and range (difference between the highest and lowest values)."
      ],
      "metadata": {
        "id": "CKPBrUV0moGB"
      }
    },
    {
      "cell_type": "markdown",
      "source": [
        "3. Working with Percentiles\n",
        "Calculating Percentiles:"
      ],
      "metadata": {
        "id": "sHmUWi-Smqmo"
      }
    },
    {
      "cell_type": "code",
      "source": [
        "# 25th, 50th, and 75th Percentiles\n",
        "percentiles = np.percentile(df['Value'], [25, 50, 75])\n",
        "print(\"Percentiles (25th, 50th, 75th):\", percentiles)\n"
      ],
      "metadata": {
        "id": "0flKT2dmmsbw"
      },
      "execution_count": null,
      "outputs": []
    },
    {
      "cell_type": "markdown",
      "source": [
        "Explanation: This code calculates the 25th, 50th, and 75th percentiles of the dataset using numpy's percentile() function."
      ],
      "metadata": {
        "id": "XWqZQ0SNmvPa"
      }
    },
    {
      "cell_type": "markdown",
      "source": [
        "4. Detecting Outliers\n",
        "Using Z-scores to Detect Outliers:"
      ],
      "metadata": {
        "id": "a7LTxeJImxTj"
      }
    },
    {
      "cell_type": "code",
      "source": [
        "z_scores = np.abs(stats.zscore(df['Value']))\n",
        "outliers = df['Value'][z_scores > 3]\n",
        "print(\"Outliers:\", outliers)\n"
      ],
      "metadata": {
        "id": "Tc6lbZurmzeY"
      },
      "execution_count": null,
      "outputs": []
    },
    {
      "cell_type": "markdown",
      "source": [
        "Explanation: This code uses Z-scores to detect outliers. Data points with a Z-score greater than 3 are considered outliers."
      ],
      "metadata": {
        "id": "htD6ODcgm1-x"
      }
    },
    {
      "cell_type": "markdown",
      "source": [
        "5. Counting for Categorical Data\n",
        "Counting Frequencies for Categorical Data:"
      ],
      "metadata": {
        "id": "gcojmOMHm36g"
      }
    },
    {
      "cell_type": "code",
      "source": [
        "# Sample DataFrame with categorical data\n",
        "df_cat = pd.DataFrame({\n",
        "    'Category': ['A', 'B', 'A', 'C', 'A', 'B', 'C', 'C', 'B', 'A']\n",
        "})\n",
        "\n",
        "# Frequency count\n",
        "frequency_counts = df_cat['Category'].value_counts()\n",
        "print(\"Frequency Counts:\", frequency_counts)\n"
      ],
      "metadata": {
        "id": "ow68M2PTm5vA"
      },
      "execution_count": null,
      "outputs": []
    },
    {
      "cell_type": "markdown",
      "source": [
        "Explanation: This code counts the frequency of each category in a categorical dataset using value_counts()."
      ],
      "metadata": {
        "id": "NFRr0Cgmm7tw"
      }
    },
    {
      "cell_type": "markdown",
      "source": [
        "6. Creating Contingency Tables\n",
        "Creating a Contingency Table:"
      ],
      "metadata": {
        "id": "5_OuBPiEm9ly"
      }
    },
    {
      "cell_type": "code",
      "source": [
        "# Sample DataFrame with two categorical columns\n",
        "df_contingency = pd.DataFrame({\n",
        "    'Category1': ['A', 'B', 'A', 'C', 'A'],\n",
        "    'Category2': ['X', 'Y', 'X', 'Y', 'X']\n",
        "})\n",
        "\n",
        "# Contingency table\n",
        "contingency_table = pd.crosstab(df_contingency['Category1'], df_contingency['Category2'])\n",
        "print(\"Contingency Table:\", contingency_table)\n"
      ],
      "metadata": {
        "id": "XlqfoEiYm_lg"
      },
      "execution_count": null,
      "outputs": []
    },
    {
      "cell_type": "markdown",
      "source": [
        "Explanation: This code creates a contingency table using crosstab() to show the frequency distribution between two categorical variables."
      ],
      "metadata": {
        "id": "O2jCZu_pnEI5"
      }
    },
    {
      "cell_type": "markdown",
      "source": [
        "7. Visualizing Data\n",
        "Creating Boxplots, Scatter Plots, and Histograms:"
      ],
      "metadata": {
        "id": "T1tBltqenHsg"
      }
    },
    {
      "cell_type": "code",
      "source": [
        "import matplotlib.pyplot as plt\n",
        "\n",
        "# Boxplot\n",
        "plt.boxplot(df['Value'])\n",
        "plt.title('Boxplot of Values')\n",
        "plt.show()\n",
        "\n",
        "# Scatter plot\n",
        "plt.scatter(df.index, df['Value'])\n",
        "plt.title('Scatter Plot of Values')\n",
        "plt.xlabel('Index')\n",
        "plt.ylabel('Value')\n",
        "plt.show()\n",
        "\n",
        "# Histogram\n",
        "plt.hist(df['Value'], bins=5)\n",
        "plt.title('Histogram of Values')\n",
        "plt.xlabel('Value')\n",
        "plt.ylabel('Frequency')\n",
        "plt.show()\n"
      ],
      "metadata": {
        "id": "8VH-GmlgnJXq"
      },
      "execution_count": null,
      "outputs": []
    },
    {
      "cell_type": "markdown",
      "source": [
        "Explanation: This code creates a boxplot, scatter plot, and histogram to visualize the data distribution and identify outliers."
      ],
      "metadata": {
        "id": "XH3HoEBPnLaI"
      }
    },
    {
      "cell_type": "markdown",
      "source": [
        "8. Using Covariance and Correlation\n",
        "Calculating Covariance and Correlation:"
      ],
      "metadata": {
        "id": "GNJSVHzunNFj"
      }
    },
    {
      "cell_type": "code",
      "source": [
        "# Sample DataFrame with two columns\n",
        "df_corr = pd.DataFrame({\n",
        "    'X': [1, 2, 3, 4, 5],\n",
        "    'Y': [2, 3, 4, 5, 6]\n",
        "})\n",
        "\n",
        "# Covariance\n",
        "covariance = df_corr.cov().iloc[0, 1]\n",
        "print(\"Covariance:\", covariance)\n",
        "\n",
        "# Correlation\n",
        "correlation = df_corr.corr().iloc[0, 1]\n",
        "print(\"Correlation:\", correlation)\n"
      ],
      "metadata": {
        "id": "zBGhZ3AknPMo"
      },
      "execution_count": null,
      "outputs": []
    },
    {
      "cell_type": "markdown",
      "source": [
        "Explanation: This code calculates the covariance and correlation between two variables. Covariance indicates the direction of the relationship, while correlation measures the strength and direction."
      ],
      "metadata": {
        "id": "T3z2kF0HnRWY"
      }
    },
    {
      "cell_type": "markdown",
      "source": [
        "9. Creating a Z-score Standardization\n",
        "Standardizing Data with Z-scores:"
      ],
      "metadata": {
        "id": "4o1FtGTTnTLY"
      }
    },
    {
      "cell_type": "code",
      "source": [
        "# Z-score standardization\n",
        "df_standardized = (df['Value'] - df['Value'].mean()) / df['Value'].std()\n",
        "print(\"Z-score Standardized Data:\", df_standardized)\n"
      ],
      "metadata": {
        "id": "7Tpp7UbcnU2o"
      },
      "execution_count": null,
      "outputs": []
    },
    {
      "cell_type": "markdown",
      "source": [
        "Explanation: This code standardizes the data by converting values to Z-scores, indicating how many standard deviations each value is from the mean."
      ],
      "metadata": {
        "id": "RCq2-p20nWsI"
      }
    },
    {
      "cell_type": "markdown",
      "source": [
        "10. Detecting Outliers Using IQR\n",
        "Using IQR to Detect Outliers:"
      ],
      "metadata": {
        "id": "zyPcKim2nYyI"
      }
    },
    {
      "cell_type": "code",
      "source": [
        "Q1 = df['Value'].quantile(0.25)\n",
        "Q3 = df['Value'].quantile(0.75)\n",
        "IQR = Q3 - Q1\n",
        "outliers_iqr = df['Value'][(df['Value'] < (Q1 - 1.5 * IQR)) | (df['Value'] > (Q3 + 1.5 * IQR))]\n",
        "print(\"Outliers (IQR method):\", outliers_iqr)\n"
      ],
      "metadata": {
        "id": "3oCS2u6_naaI"
      },
      "execution_count": null,
      "outputs": []
    },
    {
      "cell_type": "markdown",
      "source": [
        "Explanation: This code uses the Interquartile Range (IQR) method to detect outliers. Values outside the range [Q1 - 1.5IQR, Q3 + 1.5IQR] are considered outliers."
      ],
      "metadata": {
        "id": "ReDI3y-6ncoQ"
      }
    }
  ]
}