{
 "cells": [
  {
   "cell_type": "code",
   "execution_count": null,
   "id": "d05081a8",
   "metadata": {},
   "outputs": [],
   "source": [
    "import pandas as pd"
   ]
  },
  {
   "cell_type": "code",
   "execution_count": null,
   "id": "9f0fea06",
   "metadata": {},
   "outputs": [],
   "source": [
    "autos=pd.read_csv('C:\\\\Users\\\\admin\\\\Downloads\\\\auto-mpg.csv')"
   ]
  },
  {
   "cell_type": "code",
   "execution_count": null,
   "id": "9a2d6b12",
   "metadata": {
    "scrolled": true
   },
   "outputs": [],
   "source": [
    "autos.head()"
   ]
  },
  {
   "cell_type": "code",
   "execution_count": null,
   "id": "86db569f",
   "metadata": {},
   "outputs": [],
   "source": [
    "autos.head"
   ]
  },
  {
   "cell_type": "code",
   "execution_count": null,
   "id": "55231140",
   "metadata": {},
   "outputs": [],
   "source": [
    "autos.info()"
   ]
  },
  {
   "cell_type": "code",
   "execution_count": null,
   "id": "df407551",
   "metadata": {},
   "outputs": [],
   "source": [
    "list(autos.columns)"
   ]
  },
  {
   "cell_type": "raw",
   "id": "dbf0791d",
   "metadata": {},
   "source": [
    "errors:{'ignore','raise','coerce'} ,default 'raise'\n",
    "1. If'raise', then invalid parsing will raise and exception.\n",
    "2. If 'coerce', then invalid parsing will be set as NaN.\n",
    "3. If 'ignore', then invalid parsing will return the input.\n",
    "In our case, we will use errors = 'coerce' to convert any non-numeric values to null NaN.\n"
   ]
  },
  {
   "cell_type": "code",
   "execution_count": null,
   "id": "fb94d64b",
   "metadata": {},
   "outputs": [],
   "source": [
    "autos['horsepower']=pd.to_numeric(autos['horsepower'],errors='coerce'),autos.info()"
   ]
  },
  {
   "cell_type": "raw",
   "id": "1799bd34",
   "metadata": {},
   "source": [
    "The column horsepower has been converted into float64 type. We can verify if some of the rows contain null values in horsepower column. This can be done by uding isnull() method on the DataFrame column as shown in the code below."
   ]
  },
  {
   "cell_type": "code",
   "execution_count": null,
   "id": "f28d9ea1",
   "metadata": {},
   "outputs": [],
   "source": [
    "autos[autos.horsepower.isnull()]"
   ]
  },
  {
   "cell_type": "code",
   "execution_count": null,
   "id": "c5f8c07b",
   "metadata": {},
   "outputs": [],
   "source": []
  }
 ],
 "metadata": {
  "kernelspec": {
   "display_name": "Python 3 (ipykernel)",
   "language": "python",
   "name": "python3"
  },
  "language_info": {
   "codemirror_mode": {
    "name": "ipython",
    "version": 3
   },
   "file_extension": ".py",
   "mimetype": "text/x-python",
   "name": "python",
   "nbconvert_exporter": "python",
   "pygments_lexer": "ipython3",
   "version": "3.9.12"
  }
 },
 "nbformat": 4,
 "nbformat_minor": 5
}
